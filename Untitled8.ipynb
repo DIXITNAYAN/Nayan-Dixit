{
  "nbformat": 4,
  "nbformat_minor": 0,
  "metadata": {
    "colab": {
      "provenance": [],
      "toc_visible": true,
      "authorship_tag": "ABX9TyOQroYKP+3KtLpcMOSfR26F",
      "include_colab_link": true
    },
    "kernelspec": {
      "name": "python3",
      "display_name": "Python 3"
    },
    "language_info": {
      "name": "python"
    },
    "widgets": {
      "application/vnd.jupyter.widget-state+json": {
        "843b3cf07bd140b3a292fe81914cb894": {
          "model_module": "@jupyter-widgets/controls",
          "model_name": "DropdownModel",
          "model_module_version": "2.0.0",
          "state": {
            "_dom_classes": [],
            "_model_module": "@jupyter-widgets/controls",
            "_model_module_version": "2.0.0",
            "_model_name": "DropdownModel",
            "_options_labels": [
              "Toy Story",
              "Jumanji",
              "Grumpier Old Men",
              "Waiting to Exhale",
              "Father of the Bride"
            ],
            "_view_count": null,
            "_view_module": "@jupyter-widgets/controls",
            "_view_module_version": "2.0.0",
            "_view_name": "DropdownView",
            "description": "Select Movie:",
            "description_allow_html": false,
            "disabled": false,
            "index": 1,
            "layout": "IPY_MODEL_41271d9a21124ce6ba39be3ef1423078",
            "style": "IPY_MODEL_1cfbe28172104975b6ff1230b9ded0f3",
            "tabbable": null,
            "tooltip": null
          }
        },
        "41271d9a21124ce6ba39be3ef1423078": {
          "model_module": "@jupyter-widgets/base",
          "model_name": "LayoutModel",
          "model_module_version": "2.0.0",
          "state": {
            "_model_module": "@jupyter-widgets/base",
            "_model_module_version": "2.0.0",
            "_model_name": "LayoutModel",
            "_view_count": null,
            "_view_module": "@jupyter-widgets/base",
            "_view_module_version": "2.0.0",
            "_view_name": "LayoutView",
            "align_content": null,
            "align_items": null,
            "align_self": null,
            "border_bottom": null,
            "border_left": null,
            "border_right": null,
            "border_top": null,
            "bottom": null,
            "display": null,
            "flex": null,
            "flex_flow": null,
            "grid_area": null,
            "grid_auto_columns": null,
            "grid_auto_flow": null,
            "grid_auto_rows": null,
            "grid_column": null,
            "grid_gap": null,
            "grid_row": null,
            "grid_template_areas": null,
            "grid_template_columns": null,
            "grid_template_rows": null,
            "height": null,
            "justify_content": null,
            "justify_items": null,
            "left": null,
            "margin": null,
            "max_height": null,
            "max_width": null,
            "min_height": null,
            "min_width": null,
            "object_fit": null,
            "object_position": null,
            "order": null,
            "overflow": null,
            "padding": null,
            "right": null,
            "top": null,
            "visibility": null,
            "width": null
          }
        },
        "1cfbe28172104975b6ff1230b9ded0f3": {
          "model_module": "@jupyter-widgets/controls",
          "model_name": "DescriptionStyleModel",
          "model_module_version": "2.0.0",
          "state": {
            "_model_module": "@jupyter-widgets/controls",
            "_model_module_version": "2.0.0",
            "_model_name": "DescriptionStyleModel",
            "_view_count": null,
            "_view_module": "@jupyter-widgets/base",
            "_view_module_version": "2.0.0",
            "_view_name": "StyleView",
            "description_width": "initial"
          }
        },
        "8c9a7f9a4b694094a11a12353f5483fa": {
          "model_module": "@jupyter-widgets/output",
          "model_name": "OutputModel",
          "model_module_version": "1.0.0",
          "state": {
            "_dom_classes": [],
            "_model_module": "@jupyter-widgets/output",
            "_model_module_version": "1.0.0",
            "_model_name": "OutputModel",
            "_view_count": null,
            "_view_module": "@jupyter-widgets/output",
            "_view_module_version": "1.0.0",
            "_view_name": "OutputView",
            "layout": "IPY_MODEL_fa40f6a407d641e1a94591e07e1a8cde",
            "msg_id": "",
            "outputs": [
              {
                "output_type": "stream",
                "name": "stdout",
                "text": [
                  "\n",
                  "Movies similar to 'Jumanji':\n",
                  "1. Toy Story\n",
                  "2. Grumpier Old Men\n",
                  "3. Waiting to Exhale\n",
                  "4. Father of the Bride\n"
                ]
              }
            ],
            "tabbable": null,
            "tooltip": null
          }
        },
        "fa40f6a407d641e1a94591e07e1a8cde": {
          "model_module": "@jupyter-widgets/base",
          "model_name": "LayoutModel",
          "model_module_version": "2.0.0",
          "state": {
            "_model_module": "@jupyter-widgets/base",
            "_model_module_version": "2.0.0",
            "_model_name": "LayoutModel",
            "_view_count": null,
            "_view_module": "@jupyter-widgets/base",
            "_view_module_version": "2.0.0",
            "_view_name": "LayoutView",
            "align_content": null,
            "align_items": null,
            "align_self": null,
            "border_bottom": null,
            "border_left": null,
            "border_right": null,
            "border_top": null,
            "bottom": null,
            "display": null,
            "flex": null,
            "flex_flow": null,
            "grid_area": null,
            "grid_auto_columns": null,
            "grid_auto_flow": null,
            "grid_auto_rows": null,
            "grid_column": null,
            "grid_gap": null,
            "grid_row": null,
            "grid_template_areas": null,
            "grid_template_columns": null,
            "grid_template_rows": null,
            "height": null,
            "justify_content": null,
            "justify_items": null,
            "left": null,
            "margin": null,
            "max_height": null,
            "max_width": null,
            "min_height": null,
            "min_width": null,
            "object_fit": null,
            "object_position": null,
            "order": null,
            "overflow": null,
            "padding": null,
            "right": null,
            "top": null,
            "visibility": null,
            "width": null
          }
        }
      }
    }
  },
  "cells": [
    {
      "cell_type": "markdown",
      "metadata": {
        "id": "view-in-github",
        "colab_type": "text"
      },
      "source": [
        "<a href=\"https://colab.research.google.com/github/DIXITNAYAN/Nayan-Dixit/blob/main/Untitled8.ipynb\" target=\"_parent\"><img src=\"https://colab.research.google.com/assets/colab-badge.svg\" alt=\"Open In Colab\"/></a>"
      ]
    },
    {
      "cell_type": "code",
      "execution_count": 1,
      "metadata": {
        "colab": {
          "base_uri": "https://localhost:8080/"
        },
        "id": "x4ZclsbbBGpQ",
        "outputId": "608b1dad-78f1-4d83-fddd-fc485555678b"
      },
      "outputs": [
        {
          "output_type": "stream",
          "name": "stdout",
          "text": [
            "Object \"install\" is unknown, try \"ip help\".\n"
          ]
        }
      ],
      "source": [
        "!ip install pandas numpy scikit-learn"
      ]
    },
    {
      "cell_type": "code",
      "source": [
        "import pandas as pd\n",
        "import numpy as np\n",
        "from sklearn.metrics.pairwise import cosine_similarity\n",
        "from sklearn.feature_extraction.text import CountVectorizer"
      ],
      "metadata": {
        "id": "zwN1-FpRCon8"
      },
      "execution_count": 2,
      "outputs": []
    },
    {
      "cell_type": "code",
      "source": [
        "movies = pd.DataFrame({\n",
        "    'movieId': [1, 2, 3, 4, 5],\n",
        "    'title': ['Toy Story', 'Jumanji', 'Grumpier Old Men', 'Waiting to Exhale', 'Father of the Bride'],\n",
        "    'genres': ['Animation|Children|Comedy', 'Adventure|Children|Fantasy', 'Comedy|Romance', 'Comedy|Drama|Romance', 'Comedy']\n",
        "})\n",
        "ratings = pd.DataFrame({\n",
        "    'userId': [1, 1, 2, 2, 3],\n",
        "    'movieId': [1, 2, 2, 3, 4],\n",
        "    'rating': [4.0, 5.0, 4.0, 3.0, 5.0]\n",
        "})"
      ],
      "metadata": {
        "id": "o4mu2M-lC39G"
      },
      "execution_count": 3,
      "outputs": []
    },
    {
      "cell_type": "code",
      "source": [
        "# Combine all genres into a single string\n",
        "movies['combined_features'] = movies['genres']\n",
        "\n",
        "# Convert text to a matrix of token counts\n",
        "cv = CountVectorizer(tokenizer=lambda x: x.split('|'))\n",
        "genre_matrix = cv.fit_transform(movies['combined_features'])\n",
        "\n",
        "# Compute cosine similarity\n",
        "cosine_sim = cosine_similarity(genre_matrix)\n",
        "\n",
        "# Function to recommend movies\n",
        "def recommend_movies(title, cosine_sim=cosine_sim):\n",
        "    movie_idx = movies[movies['title'] == title].index[0]\n",
        "    similar_movies = list(enumerate(cosine_sim[movie_idx]))\n",
        "    similar_movies = sorted(similar_movies, key=lambda x: x[1], reverse=True)[1:6]\n",
        "    recommended = [movies.iloc[i[0]]['title'] for i in similar_movies]\n",
        "    return recommended\n",
        "\n",
        "print(recommend_movies('Toy Story'))"
      ],
      "metadata": {
        "colab": {
          "base_uri": "https://localhost:8080/"
        },
        "id": "zYKopljKDGQp",
        "outputId": "f72bafd3-32d3-4cf9-9de4-715d569eba05"
      },
      "execution_count": 4,
      "outputs": [
        {
          "output_type": "stream",
          "name": "stdout",
          "text": [
            "['Father of the Bride', 'Grumpier Old Men', 'Jumanji', 'Waiting to Exhale']\n"
          ]
        },
        {
          "output_type": "stream",
          "name": "stderr",
          "text": [
            "/usr/local/lib/python3.10/dist-packages/sklearn/feature_extraction/text.py:521: UserWarning: The parameter 'token_pattern' will not be used since 'tokenizer' is not None'\n",
            "  warnings.warn(\n"
          ]
        }
      ]
    },
    {
      "cell_type": "code",
      "source": [
        "# Create a user-item matrix\n",
        "user_movie_matrix = ratings.pivot(index='userId', columns='movieId', values='rating').fillna(0)\n",
        "# Compute cosine similarity between users\n",
        "user_similarity = cosine_similarity(user_movie_matrix)\n",
        "user_similarity_df = pd.DataFrame(user_similarity, index=user_movie_matrix.index, columns=user_movie_matrix.index)\n",
        "\n",
        "# Recommendation based on user similarity\n",
        "def recommend_for_user(user_id, n_recommendations=5):\n",
        "    similar_users = user_similarity_df[user_id].sort_values(ascending=False).index[1:]\n",
        "    recommended_movies = {}\n",
        "    for similar_user in similar_users:\n",
        "        similar_user_ratings = ratings[ratings['userId'] == similar_user]\n",
        "        for _, row in similar_user_ratings.iterrows():\n",
        "            if row['movieId'] not in user_movie_matrix.loc[user_id].index or user_movie_matrix.loc[user_id, row['movieId']] == 0:\n",
        "                if row['movieId'] not in recommended_movies:\n",
        "                    recommended_movies[row['movieId']] = row['rating']\n",
        "                else:\n",
        "                    recommended_movies[row['movieId']] += row['rating']\n",
        "    recommended_movies = sorted(recommended_movies.items(), key=lambda x: x[1], reverse=True)\n",
        "    recommended_movie_ids = [movie[0] for movie in recommended_movies[:n_recommendations]]\n",
        "    return movies[movies['movieId'].isin(recommended_movie_ids)]['title'].tolist()\n",
        "\n",
        "print(recommend_for_user(1))\n"
      ],
      "metadata": {
        "colab": {
          "base_uri": "https://localhost:8080/"
        },
        "id": "Bum5cTw_DMHj",
        "outputId": "3cc66fcd-22eb-465d-eaf4-3ddfe1fed64e"
      },
      "execution_count": 8,
      "outputs": [
        {
          "output_type": "stream",
          "name": "stdout",
          "text": [
            "['Grumpier Old Men', 'Waiting to Exhale']\n"
          ]
        }
      ]
    },
    {
      "cell_type": "code",
      "source": [
        "cv = CountVectorizer(stop_words='english')\n",
        "feature_matrix = cv.fit_transform(movies['combined_features'])"
      ],
      "metadata": {
        "id": "t-yRJIoFDYYb"
      },
      "execution_count": 9,
      "outputs": []
    },
    {
      "cell_type": "code",
      "source": [
        "cosine_sim = cosine_similarity(feature_matrix)\n"
      ],
      "metadata": {
        "id": "A709XW2EEeBV"
      },
      "execution_count": 10,
      "outputs": []
    },
    {
      "cell_type": "code",
      "source": [
        "def recommend_movies(title, n=5):\n",
        "    pass # or some other valid function body"
      ],
      "metadata": {
        "id": "zAMcZWQ3Ej8O"
      },
      "execution_count": 12,
      "outputs": []
    },
    {
      "cell_type": "code",
      "source": [
        "def get_recommendations_for_movie(title, n=5):\n",
        "    \"\"\"\n",
        "    Recommends movies based on cosine similarity of genres.\n",
        "\n",
        "    Args:\n",
        "        title (str): The title of the movie to find recommendations for.\n",
        "        n (int): The number of recommendations to return (default is 5).\n",
        "\n",
        "    Returns:\n",
        "        list: A list of recommended movie titles.\n",
        "    \"\"\"\n",
        "    movie_idx = movies[movies['title'] == title].index[0] # Get the index of the movie in the DataFrame\n",
        "    similar_movies = list(enumerate(cosine_sim[movie_idx])) # Get the similarity scores for the movie\n",
        "    similar_movies = sorted(similar_movies, key=lambda x: x[1], reverse=True)[1:n+1] # Sort the movies by similarity and select the top n\n",
        "    recommended = [movies.iloc[i[0]]['title'] for i in similar_movies] # Get the titles of the recommended movies\n",
        "    return recommended\n",
        "\n",
        "# Example usage\n",
        "title = 'Toy Story' # Define the title variable before using it\n",
        "recommendations = get_recommendations_for_movie(title, n=5)\n",
        "print(recommendations)"
      ],
      "metadata": {
        "colab": {
          "base_uri": "https://localhost:8080/"
        },
        "id": "HxAbby63Eu9a",
        "outputId": "091ace1e-f9e3-4213-d344-989d83e0205d"
      },
      "execution_count": 14,
      "outputs": [
        {
          "output_type": "stream",
          "name": "stdout",
          "text": [
            "['Father of the Bride', 'Grumpier Old Men', 'Jumanji', 'Waiting to Exhale']\n"
          ]
        }
      ]
    },
    {
      "cell_type": "code",
      "source": [
        "def get_recommendations_for_movie(title, n=5):\n",
        "    \"\"\"\n",
        "    Recommends movies based on cosine similarity of genres.\n",
        "\n",
        "    Args:\n",
        "        title (str): The title of the movie to find recommendations for.\n",
        "        n (int): The number of recommendations to return (default is 5).\n",
        "\n",
        "    Returns:\n",
        "        list: A list of recommended movie titles.\n",
        "    \"\"\"\n",
        "    # Get the"
      ],
      "metadata": {
        "id": "ieZOAY8kFBVl"
      },
      "execution_count": 16,
      "outputs": []
    },
    {
      "cell_type": "code",
      "source": [
        "def get_recommendations_for_movie(title, cosine_sim=cosine_sim, n=5):\n",
        "    \"\"\"\n",
        "    Recommends movies based on cosine\n",
        "    \"\"\""
      ],
      "metadata": {
        "id": "HzZy5fYdFS7F"
      },
      "execution_count": 19,
      "outputs": []
    },
    {
      "cell_type": "code",
      "source": [
        "def recommend_movies(title, cosine_sim=cosine_sim, n=5):\n",
        "    \"\"\"\n",
        "    Recommends movies based on cosine\n",
        "    \"\"\"\n",
        "    # ... (your code logic here) ...\n",
        "\n",
        "    # This line was incorrectly indented\n",
        "    return recommended_movies"
      ],
      "metadata": {
        "id": "HnrKgdNvFhqS"
      },
      "execution_count": 21,
      "outputs": []
    },
    {
      "cell_type": "code",
      "source": [
        "def recommend_movies(title, cosine_sim=cosine_sim, n=5):\n",
        "    \"\"\"\n",
        "    Recommends movies based on cosine similarity.\n",
        "    \"\"\"\n",
        "    movie_idx = movies[movies['title'] == title]"
      ],
      "metadata": {
        "id": "RkUpbUKaFznT"
      },
      "execution_count": 24,
      "outputs": []
    },
    {
      "cell_type": "code",
      "source": [
        "def recommend_movies(title, n=5):\n",
        "    try:\n",
        "        movie_idx = movies[movies['title'] == title].index[0]\n",
        "    except IndexError:\n",
        "        return [\"Movie not found in the dataset.\"]\n",
        "\n",
        "    similarity_scores = list(enumerate(cosine_sim[movie_idx]))\n",
        "    sorted_movies = sorted(similarity_scores, key=lambda x: x[1], reverse=True)[1:n+1]\n",
        "    recommended_movies = [movies.iloc[i[0]]['title'] for i in sorted_movies]\n",
        "    return recommended_movies"
      ],
      "metadata": {
        "id": "jE5oNJfRF7Xh"
      },
      "execution_count": 25,
      "outputs": []
    },
    {
      "cell_type": "code",
      "source": [
        "def interactive_recommender():\n",
        "    dropdown = widgets.Dropdown(\n",
        "        options=movies['title'].tolist(),\n",
        "        description='Select Movie:',\n",
        "        style={'description_width': 'initial'}\n",
        "    )\n",
        "\n",
        "    output = widgets.Output()\n",
        "\n",
        "    def on_change(change):\n",
        "        with output:\n",
        "            output.clear_output()\n",
        "            movie_title = change['new']\n",
        "            print(f\"\\nMovies similar to '{movie_title}':\")\n",
        "            recommendations = recommend_movies(movie_title)\n",
        "            for idx, movie in enumerate(recommendations, start=1):\n",
        "                print(f\"{idx}. {movie}\")\n",
        "\n",
        "    dropdown.observe(on_change, names='value')\n",
        "    display(dropdown, output)\n"
      ],
      "metadata": {
        "id": "Zlgsa4_LIRrx"
      },
      "execution_count": 28,
      "outputs": []
    },
    {
      "cell_type": "code",
      "source": [
        "!pip install ipywidgets==8.0.6"
      ],
      "metadata": {
        "colab": {
          "base_uri": "https://localhost:8080/"
        },
        "id": "qHl31phQIl7t",
        "outputId": "5d77931c-8729-472b-d2ed-ae615d5b7fbb"
      },
      "execution_count": 30,
      "outputs": [
        {
          "output_type": "stream",
          "name": "stdout",
          "text": [
            "Collecting ipywidgets==8.0.6\n",
            "  Downloading ipywidgets-8.0.6-py3-none-any.whl.metadata (2.4 kB)\n",
            "Requirement already satisfied: ipykernel>=4.5.1 in /usr/local/lib/python3.10/dist-packages (from ipywidgets==8.0.6) (5.5.6)\n",
            "Requirement already satisfied: ipython>=6.1.0 in /usr/local/lib/python3.10/dist-packages (from ipywidgets==8.0.6) (7.34.0)\n",
            "Requirement already satisfied: traitlets>=4.3.1 in /usr/local/lib/python3.10/dist-packages (from ipywidgets==8.0.6) (5.7.1)\n",
            "Collecting widgetsnbextension~=4.0.7 (from ipywidgets==8.0.6)\n",
            "  Downloading widgetsnbextension-4.0.13-py3-none-any.whl.metadata (1.6 kB)\n",
            "Requirement already satisfied: jupyterlab-widgets~=3.0.7 in /usr/local/lib/python3.10/dist-packages (from ipywidgets==8.0.6) (3.0.13)\n",
            "Requirement already satisfied: ipython-genutils in /usr/local/lib/python3.10/dist-packages (from ipykernel>=4.5.1->ipywidgets==8.0.6) (0.2.0)\n",
            "Requirement already satisfied: jupyter-client in /usr/local/lib/python3.10/dist-packages (from ipykernel>=4.5.1->ipywidgets==8.0.6) (6.1.12)\n",
            "Requirement already satisfied: tornado>=4.2 in /usr/local/lib/python3.10/dist-packages (from ipykernel>=4.5.1->ipywidgets==8.0.6) (6.3.3)\n",
            "Requirement already satisfied: setuptools>=18.5 in /usr/local/lib/python3.10/dist-packages (from ipython>=6.1.0->ipywidgets==8.0.6) (75.1.0)\n",
            "Collecting jedi>=0.16 (from ipython>=6.1.0->ipywidgets==8.0.6)\n",
            "  Downloading jedi-0.19.2-py2.py3-none-any.whl.metadata (22 kB)\n",
            "Requirement already satisfied: decorator in /usr/local/lib/python3.10/dist-packages (from ipython>=6.1.0->ipywidgets==8.0.6) (4.4.2)\n",
            "Requirement already satisfied: pickleshare in /usr/local/lib/python3.10/dist-packages (from ipython>=6.1.0->ipywidgets==8.0.6) (0.7.5)\n",
            "Requirement already satisfied: prompt-toolkit!=3.0.0,!=3.0.1,<3.1.0,>=2.0.0 in /usr/local/lib/python3.10/dist-packages (from ipython>=6.1.0->ipywidgets==8.0.6) (3.0.48)\n",
            "Requirement already satisfied: pygments in /usr/local/lib/python3.10/dist-packages (from ipython>=6.1.0->ipywidgets==8.0.6) (2.18.0)\n",
            "Requirement already satisfied: backcall in /usr/local/lib/python3.10/dist-packages (from ipython>=6.1.0->ipywidgets==8.0.6) (0.2.0)\n",
            "Requirement already satisfied: matplotlib-inline in /usr/local/lib/python3.10/dist-packages (from ipython>=6.1.0->ipywidgets==8.0.6) (0.1.7)\n",
            "Requirement already satisfied: pexpect>4.3 in /usr/local/lib/python3.10/dist-packages (from ipython>=6.1.0->ipywidgets==8.0.6) (4.9.0)\n",
            "Requirement already satisfied: parso<0.9.0,>=0.8.4 in /usr/local/lib/python3.10/dist-packages (from jedi>=0.16->ipython>=6.1.0->ipywidgets==8.0.6) (0.8.4)\n",
            "Requirement already satisfied: ptyprocess>=0.5 in /usr/local/lib/python3.10/dist-packages (from pexpect>4.3->ipython>=6.1.0->ipywidgets==8.0.6) (0.7.0)\n",
            "Requirement already satisfied: wcwidth in /usr/local/lib/python3.10/dist-packages (from prompt-toolkit!=3.0.0,!=3.0.1,<3.1.0,>=2.0.0->ipython>=6.1.0->ipywidgets==8.0.6) (0.2.13)\n",
            "Requirement already satisfied: jupyter-core>=4.6.0 in /usr/local/lib/python3.10/dist-packages (from jupyter-client->ipykernel>=4.5.1->ipywidgets==8.0.6) (5.7.2)\n",
            "Requirement already satisfied: pyzmq>=13 in /usr/local/lib/python3.10/dist-packages (from jupyter-client->ipykernel>=4.5.1->ipywidgets==8.0.6) (24.0.1)\n",
            "Requirement already satisfied: python-dateutil>=2.1 in /usr/local/lib/python3.10/dist-packages (from jupyter-client->ipykernel>=4.5.1->ipywidgets==8.0.6) (2.8.2)\n",
            "Requirement already satisfied: platformdirs>=2.5 in /usr/local/lib/python3.10/dist-packages (from jupyter-core>=4.6.0->jupyter-client->ipykernel>=4.5.1->ipywidgets==8.0.6) (4.3.6)\n",
            "Requirement already satisfied: six>=1.5 in /usr/local/lib/python3.10/dist-packages (from python-dateutil>=2.1->jupyter-client->ipykernel>=4.5.1->ipywidgets==8.0.6) (1.16.0)\n",
            "Downloading ipywidgets-8.0.6-py3-none-any.whl (138 kB)\n",
            "\u001b[2K   \u001b[90m━━━━━━━━━━━━━━━━━━━━━━━━━━━━━━━━━━━━━━━━\u001b[0m \u001b[32m138.3/138.3 kB\u001b[0m \u001b[31m4.3 MB/s\u001b[0m eta \u001b[36m0:00:00\u001b[0m\n",
            "\u001b[?25hDownloading widgetsnbextension-4.0.13-py3-none-any.whl (2.3 MB)\n",
            "\u001b[2K   \u001b[90m━━━━━━━━━━━━━━━━━━━━━━━━━━━━━━━━━━━━━━━━\u001b[0m \u001b[32m2.3/2.3 MB\u001b[0m \u001b[31m32.4 MB/s\u001b[0m eta \u001b[36m0:00:00\u001b[0m\n",
            "\u001b[?25hDownloading jedi-0.19.2-py2.py3-none-any.whl (1.6 MB)\n",
            "\u001b[2K   \u001b[90m━━━━━━━━━━━━━━━━━━━━━━━━━━━━━━━━━━━━━━━━\u001b[0m \u001b[32m1.6/1.6 MB\u001b[0m \u001b[31m50.4 MB/s\u001b[0m eta \u001b[36m0:00:00\u001b[0m\n",
            "\u001b[?25hInstalling collected packages: widgetsnbextension, jedi, ipywidgets\n",
            "  Attempting uninstall: widgetsnbextension\n",
            "    Found existing installation: widgetsnbextension 3.6.10\n",
            "    Uninstalling widgetsnbextension-3.6.10:\n",
            "      Successfully uninstalled widgetsnbextension-3.6.10\n",
            "  Attempting uninstall: ipywidgets\n",
            "    Found existing installation: ipywidgets 7.7.1\n",
            "    Uninstalling ipywidgets-7.7.1:\n",
            "      Successfully uninstalled ipywidgets-7.7.1\n",
            "Successfully installed ipywidgets-8.0.6 jedi-0.19.2 widgetsnbextension-4.0.13\n"
          ]
        }
      ]
    },
    {
      "cell_type": "code",
      "source": [
        "import ipywidgets as widgets\n",
        "from IPython.display import display\n",
        "\n",
        "# Enable the widgets extension\n",
        "get_ipython().run_line_magic('jupyter', 'nbextension enable --py widgetsnbextension')"
      ],
      "metadata": {
        "colab": {
          "base_uri": "https://localhost:8080/"
        },
        "id": "oKwU1blxIyiT",
        "outputId": "e3621b0f-98f5-4427-b38b-5d2df8bd0eb5"
      },
      "execution_count": 32,
      "outputs": [
        {
          "output_type": "stream",
          "name": "stderr",
          "text": [
            "UsageError: Line magic function `%jupyter` not found.\n"
          ]
        }
      ]
    },
    {
      "cell_type": "code",
      "source": [
        "interactive_recommender()"
      ],
      "metadata": {
        "colab": {
          "base_uri": "https://localhost:8080/",
          "height": 153,
          "referenced_widgets": [
            "843b3cf07bd140b3a292fe81914cb894",
            "41271d9a21124ce6ba39be3ef1423078",
            "1cfbe28172104975b6ff1230b9ded0f3",
            "8c9a7f9a4b694094a11a12353f5483fa",
            "fa40f6a407d641e1a94591e07e1a8cde"
          ]
        },
        "id": "UBNgpP60I2xB",
        "outputId": "44696178-7653-45ce-80c7-fdb1b74f718b"
      },
      "execution_count": 33,
      "outputs": [
        {
          "output_type": "display_data",
          "data": {
            "text/plain": [
              "Dropdown(description='Select Movie:', options=('Toy Story', 'Jumanji', 'Grumpier Old Men', 'Waiting to Exhale'…"
            ],
            "application/vnd.jupyter.widget-view+json": {
              "version_major": 2,
              "version_minor": 0,
              "model_id": "843b3cf07bd140b3a292fe81914cb894"
            }
          },
          "metadata": {}
        },
        {
          "output_type": "display_data",
          "data": {
            "text/plain": [
              "Output()"
            ],
            "application/vnd.jupyter.widget-view+json": {
              "version_major": 2,
              "version_minor": 0,
              "model_id": "8c9a7f9a4b694094a11a12353f5483fa"
            }
          },
          "metadata": {}
        }
      ]
    },
    {
      "cell_type": "code",
      "source": [],
      "metadata": {
        "id": "uqyd3X3-I_zl"
      },
      "execution_count": null,
      "outputs": []
    }
  ]
}